{
 "cells": [
  {
   "cell_type": "code",
   "execution_count": 1,
   "id": "c59ed22d",
   "metadata": {},
   "outputs": [
    {
     "name": "stdout",
     "output_type": "stream",
     "text": [
      "early_fault\n"
     ]
    }
   ],
   "source": [
    "# import requests\n",
    "\n",
    "# url = \"http://127.0.0.1:8000/predict\"\n",
    "# file_path = \"/Users/kehindeelelu/Documents/aimechanics/dataset/equipment_sound_dataset/early_fault/early_fault_001.wav\"\n",
    "\n",
    "# with open(file_path, \"rb\") as f:\n",
    "#     files = {\"file\": f}\n",
    "#     response = requests.post(url, files=files)\n",
    "\n",
    "# # Parse the JSON response\n",
    "# response_data = response.json()\n",
    "\n",
    "# # Access the predicted class\n",
    "# print(response_data[\"prediction\"][\"predicted_class\"])"
   ]
  },
  {
   "cell_type": "code",
   "execution_count": 1,
   "id": "56941393",
   "metadata": {},
   "outputs": [
    {
     "name": "stdout",
     "output_type": "stream",
     "text": [
      "['']\n",
      "No process found using port 8000.\n"
     ]
    }
   ],
   "source": [
    "import subprocess\n",
    "import os\n",
    "import signal\n",
    "\n",
    "def kill_port_8000():\n",
    "    try:\n",
    "        result = subprocess.run(\n",
    "            ['lsof', '-i', ':8000'],\n",
    "            stdout=subprocess.PIPE,\n",
    "            stderr=subprocess.DEVNULL,\n",
    "            text=True\n",
    "        )\n",
    "\n",
    "        lines = result.stdout.strip().split('\\n')\n",
    "        print(lines)\n",
    "        \n",
    "        if len(lines) <= 1:\n",
    "            print(\"No process found using port 8000.\")\n",
    "            return\n",
    "\n",
    "        for line in lines[1:]:  # Skip header\n",
    "            parts = line.split()\n",
    "            pid = int(parts[1])\n",
    "            os.kill(pid, signal.SIGKILL)\n",
    "            print(f\"Killed process {pid} using port 8000.\")\n",
    "            \n",
    "    except Exception as e:\n",
    "        print(f\"Error: {e}\")\n",
    "\n",
    "if __name__ == \"__main__\":\n",
    "    kill_port_8000()\n"
   ]
  },
  {
   "cell_type": "code",
   "execution_count": 19,
   "id": "75653710",
   "metadata": {},
   "outputs": [
    {
     "name": "stdout",
     "output_type": "stream",
     "text": [
      "Recording...\n",
      "Recording complete.\n",
      "Audio data shape: (220500, 1)\n",
      "Audio saved to /Users/kehindeelelu/Documents/aimechanics/dataset/recorded_audio/audio_1744735455.wav\n",
      "Audio saved as test_audio.wav\n",
      "Recording complete.\n",
      "Audio data shape: (220500, 1)\n",
      "Audio saved to /Users/kehindeelelu/Documents/aimechanics/dataset/recorded_audio/audio_1744735455.wav\n",
      "Audio saved as test_audio.wav\n",
      "Server response: {'prediction': {'predicted_class': 'failure', 'probabilities': [0.11489042777731871, 0.12375686969257803, 0.7613527025301032]}}\n",
      "Predicted class: failure\n",
      "Server response: {'prediction': {'predicted_class': 'failure', 'probabilities': [0.11489042777731871, 0.12375686969257803, 0.7613527025301032]}}\n",
      "Predicted class: failure\n"
     ]
    }
   ],
   "source": [
    "import requests\n",
    "import sounddevice as sd\n",
    "from scipy.io.wavfile import write\n",
    "import tempfile\n",
    "import time\n",
    "\n",
    "# Define the server URL\n",
    "url = \"http://127.0.0.1:8000/predict\"\n",
    "\n",
    "# Define the folder to save audio files\n",
    "audio_folder = \"/Users/kehindeelelu/Documents/aimechanics/dataset/recorded_audio\"\n",
    "\n",
    "# Record audio from the microphone\n",
    "def record_audio(duration=5, sample_rate=44100):\n",
    "    print(\"Recording...\")\n",
    "    audio_data = sd.rec(int(duration * sample_rate), samplerate=sample_rate, channels=1, dtype='int16')\n",
    "    sd.wait()  # Wait until recording is finished\n",
    "    print(\"Recording complete.\")\n",
    "    return audio_data, sample_rate\n",
    "\n",
    "# Save the recorded audio to a temporary WAV file\n",
    "def save_audio_to_tempfile(audio_data, sample_rate):\n",
    "    temp_file = tempfile.NamedTemporaryFile(suffix=\".wav\", delete=False)\n",
    "    write(temp_file.name, sample_rate, audio_data)\n",
    "    return temp_file.name\n",
    "\n",
    "# Save the recorded audio to a specific folder\n",
    "def save_audio_to_folder(audio_data, sample_rate, folder, filename=\"recorded_audio.wav\"):\n",
    "    file_path = os.path.join(folder, filename)\n",
    "    write(file_path, sample_rate, audio_data)\n",
    "    print(f\"Audio saved to {file_path}\")\n",
    "    return file_path\n",
    "\n",
    "# Main logic\n",
    "if __name__ == \"__main__\":\n",
    "    # Record audio for 5 seconds\n",
    "    audio_data, sample_rate = record_audio(duration=5)\n",
    "    print(\"Audio data shape:\", audio_data.shape)\n",
    "\n",
    "    # Save the audio to the specified folder with a unique filename\n",
    "    timestamp = int(time.time())\n",
    "    filename = f\"audio_{timestamp}.wav\"\n",
    "    audio_file_path = save_audio_to_folder(audio_data, sample_rate, audio_folder, filename)\n",
    "\n",
    "    # Save the audio to a temporary file\n",
    "    temp_file_path = save_audio_to_tempfile(audio_data, sample_rate)\n",
    "\n",
    "    # Debug: Save the audio locally to verify recording\n",
    "    write(\"test_audio.wav\", sample_rate, audio_data)\n",
    "    print(\"Audio saved as test_audio.wav\")\n",
    "\n",
    "    # Send the audio file to the server\n",
    "    with open(audio_file_path, \"rb\") as f:\n",
    "        files = {\"file\": f}\n",
    "        # response = requests.post(url, files=files)\n",
    "        response = requests.post(url, files=files, params={\"timestamp\": time.time()})\n",
    "        \n",
    "    # Parse the JSON response\n",
    "    response_data = response.json()\n",
    "    print(\"Server response:\", response_data)\n",
    "\n",
    "    # Access the predicted class\n",
    "    print(\"Predicted class:\", response_data.get(\"prediction\", {}).get(\"predicted_class\"))\n",
    "\n",
    "    # Clean up temporary file\n",
    "    import os\n",
    "    os.remove(temp_file_path)"
   ]
  }
 ],
 "metadata": {
  "kernelspec": {
   "display_name": "3.12.2",
   "language": "python",
   "name": "python3"
  },
  "language_info": {
   "codemirror_mode": {
    "name": "ipython",
    "version": 3
   },
   "file_extension": ".py",
   "mimetype": "text/x-python",
   "name": "python",
   "nbconvert_exporter": "python",
   "pygments_lexer": "ipython3",
   "version": "3.12.2"
  }
 },
 "nbformat": 4,
 "nbformat_minor": 5
}
